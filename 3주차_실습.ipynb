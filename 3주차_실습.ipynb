{
  "nbformat": 4,
  "nbformat_minor": 0,
  "metadata": {
    "colab": {
      "provenance": []
    },
    "kernelspec": {
      "name": "python3",
      "display_name": "Python 3"
    },
    "language_info": {
      "name": "python"
    }
  },
  "cells": [
    {
      "cell_type": "markdown",
      "source": [
        "# 예제 1. 문자열에서 유니코드 코드포인트 리스트 만들기 (버전 1)"
      ],
      "metadata": {
        "id": "HjsVE4Y8seGz"
      }
    },
    {
      "cell_type": "code",
      "execution_count": 1,
      "metadata": {
        "colab": {
          "base_uri": "https://localhost:8080/"
        },
        "id": "zOb7zodGt5_Z",
        "outputId": "5efeb101-24c3-495c-e26d-ec9d4df9aa9c"
      },
      "outputs": [
        {
          "output_type": "stream",
          "name": "stdout",
          "text": [
            "[36, 42, 38, 33, 64]\n"
          ]
        }
      ],
      "source": [
        "symbols = \"$*&!@\"\n",
        "codes = []\n",
        "\n",
        "for symbol in symbols:\n",
        "    codes.append(ord(symbol))\n",
        "\n",
        "print(codes)"
      ]
    },
    {
      "cell_type": "markdown",
      "source": [
        "# 예제 2. 문자열에서 유니코드 코드포인트 리스트 만들기 (버전 2)"
      ],
      "metadata": {
        "id": "-ZbxZURAsh06"
      }
    },
    {
      "cell_type": "code",
      "source": [
        "symbols = \"$*&!@\"\n",
        "codes = [ord(symbol) for symbol in symbols]\n",
        "\n",
        "print(codes)"
      ],
      "metadata": {
        "colab": {
          "base_uri": "https://localhost:8080/"
        },
        "id": "8YlLgT6NrhQH",
        "outputId": "4d73612c-7610-4127-9da5-b263fd2b7300"
      },
      "execution_count": 2,
      "outputs": [
        {
          "output_type": "stream",
          "name": "stdout",
          "text": [
            "[36, 42, 38, 33, 64]\n"
          ]
        }
      ]
    },
    {
      "cell_type": "markdown",
      "source": [
        "# 예제 3. 지능형 리스트 지역 변수와 주변 변수 구분 예제"
      ],
      "metadata": {
        "id": "aZTyh139sluV"
      }
    },
    {
      "cell_type": "code",
      "source": [
        "x = '\"!~$$*&!@'\n",
        "dummy = [ord(x) for x in x]\n",
        "print(x)\n",
        "print(dummy)"
      ],
      "metadata": {
        "colab": {
          "base_uri": "https://localhost:8080/"
        },
        "id": "WQaVfcJUuQoJ",
        "outputId": "a9faf83e-a03b-4af7-8d53-5f096cb35692"
      },
      "execution_count": 3,
      "outputs": [
        {
          "output_type": "stream",
          "name": "stdout",
          "text": [
            "\"!~$$*&!@\n",
            "[34, 33, 126, 36, 36, 42, 38, 33, 64]\n"
          ]
        }
      ]
    },
    {
      "cell_type": "markdown",
      "source": [
        "# 예제 4. 지능형 리스트로 만든 리스트"
      ],
      "metadata": {
        "id": "I_4s20iQsozU"
      }
    },
    {
      "cell_type": "code",
      "source": [
        "symbols = '\"!~$$*&!@'\n",
        "beyond_ascii = [ord(s) for s in symbols if ord(s) > 32]\n",
        "print(beyond_ascii)"
      ],
      "metadata": {
        "colab": {
          "base_uri": "https://localhost:8080/"
        },
        "id": "HZZsnT-2rjto",
        "outputId": "59354b1f-3518-4290-b1bb-eefee4824235"
      },
      "execution_count": 4,
      "outputs": [
        {
          "output_type": "stream",
          "name": "stdout",
          "text": [
            "[34, 33, 126, 36, 36, 42, 38, 33, 64]\n"
          ]
        }
      ]
    },
    {
      "cell_type": "markdown",
      "source": [
        "# 예제 5. map()/filter()로 만든 리스트"
      ],
      "metadata": {
        "id": "KTsq97PSssZR"
      }
    },
    {
      "cell_type": "code",
      "source": [
        "symbols = '\"!~$$*&!@'\n",
        "beyond_ascii = list(filter(lambda c: c > 64, map(ord, symbols)))\n",
        "\n",
        "print(beyond_ascii, '\\n')\n",
        "\n",
        "print(f\"Map function:\\n>>> {map(ord, symbols)}\")\n",
        "print(f\"List after map:\\n>>> {list(map(ord, symbols))}\")"
      ],
      "metadata": {
        "colab": {
          "base_uri": "https://localhost:8080/"
        },
        "id": "i1NhlShUrl3V",
        "outputId": "c85686f7-1ec1-46ff-80b2-724058e18ba6"
      },
      "execution_count": 5,
      "outputs": [
        {
          "output_type": "stream",
          "name": "stdout",
          "text": [
            "[126] \n",
            "\n",
            "Map function:\n",
            ">>> <map object at 0x7b5c7fda7a00>\n",
            "List after map:\n",
            ">>> [34, 33, 126, 36, 36, 42, 38, 33, 64]\n"
          ]
        }
      ]
    },
    {
      "cell_type": "markdown",
      "source": [
        "# 예제 6. 지능형 리스트를 이용한 데카르트 곱"
      ],
      "metadata": {
        "id": "e2ruauoSsvb_"
      }
    },
    {
      "cell_type": "code",
      "source": [
        "colors = ['black', 'white']\n",
        "sizes = ['S', 'M', 'L']\n",
        "tshirt  = [(color, size) for color in colors for size in sizes]\n",
        "\n",
        "print(tshirt)\n",
        "\n",
        "for color in colors:\n",
        "  for size in sizes:\n",
        "    print((color, size))"
      ],
      "metadata": {
        "colab": {
          "base_uri": "https://localhost:8080/"
        },
        "id": "JGlUoQHbrnDY",
        "outputId": "1e5ebcc1-113f-43c4-ab13-2e01c272c95d"
      },
      "execution_count": 6,
      "outputs": [
        {
          "output_type": "stream",
          "name": "stdout",
          "text": [
            "[('black', 'S'), ('black', 'M'), ('black', 'L'), ('white', 'S'), ('white', 'M'), ('white', 'L')]\n",
            "('black', 'S')\n",
            "('black', 'M')\n",
            "('black', 'L')\n",
            "('white', 'S')\n",
            "('white', 'M')\n",
            "('white', 'L')\n"
          ]
        }
      ]
    },
    {
      "cell_type": "markdown",
      "source": [
        "# 예제 7. 제너레이터 표현식에서 튜플 초기화하기"
      ],
      "metadata": {
        "id": "bhIj5GoJsygU"
      }
    },
    {
      "cell_type": "code",
      "source": [
        "import array\n",
        "\n",
        "symbols = \"!#^&&#\"\n",
        "ord_s = tuple(ord(s) for s in symbols if ord(s))\n",
        "\n",
        "print(ord_s)\n",
        "\n",
        "ord_s = array.array('I', [ord(symbol) for symbol in symbols])\n",
        "\n",
        "print(ord_s)"
      ],
      "metadata": {
        "colab": {
          "base_uri": "https://localhost:8080/"
        },
        "id": "AOHLkW12yN-T",
        "outputId": "b99ad320-5da5-435a-ce9d-3223b529690f"
      },
      "execution_count": 7,
      "outputs": [
        {
          "output_type": "stream",
          "name": "stdout",
          "text": [
            "(33, 35, 94, 38, 38, 35)\n",
            "array('I', [33, 35, 94, 38, 38, 35])\n"
          ]
        }
      ]
    },
    {
      "cell_type": "markdown",
      "source": [
        "# 예제 8. 제너레이터 표현식에서의 데카르트 곱"
      ],
      "metadata": {
        "id": "bfiBcRRNs3Ah"
      }
    },
    {
      "cell_type": "code",
      "source": [
        "colors = ['black', 'white']\n",
        "sizes = ['S', 'M', 'L']\n",
        "\n",
        "for tshirt in ('{} {}'.format(c, s) for s in sizes for c in colors):\n",
        "  print(tshirt)"
      ],
      "metadata": {
        "colab": {
          "base_uri": "https://localhost:8080/"
        },
        "id": "CwgGyDDKrpHf",
        "outputId": "aa6aa263-3a07-4005-9ce4-63c6395fbc28"
      },
      "execution_count": 8,
      "outputs": [
        {
          "output_type": "stream",
          "name": "stdout",
          "text": [
            "black S\n",
            "white S\n",
            "black M\n",
            "white M\n",
            "black L\n",
            "white L\n"
          ]
        }
      ]
    },
    {
      "cell_type": "markdown",
      "source": [
        "# 예제 9. 레코드로 사용된 튜플 1"
      ],
      "metadata": {
        "id": "8TNNyE2Hs8GO"
      }
    },
    {
      "cell_type": "code",
      "source": [
        "lax_coordinates = (33.9425, -118.408056)\n",
        "city, year, pop, chg, area = ('Tokyo', 2003, 32450, 0.66, 8014)\n",
        "traveler_ids = [('USA', '31195855'),\n",
        "                ('BRA', 'CE342567'),\n",
        "                ('ESP', 'XDA205856')]\n",
        "\n",
        "for passport in sorted(traveler_ids):\n",
        "  print('%s/%s' % passport)\n",
        "  print('{}/{}'.format(passport[0], passport[1]))\n",
        "  print(f'{passport[0]}/{passport[1]}')"
      ],
      "metadata": {
        "colab": {
          "base_uri": "https://localhost:8080/"
        },
        "id": "SBRZsJDzy81N",
        "outputId": "b957945d-c981-4a64-bde7-1b87b452b2b9"
      },
      "execution_count": 9,
      "outputs": [
        {
          "output_type": "stream",
          "name": "stdout",
          "text": [
            "BRA/CE342567\n",
            "BRA/CE342567\n",
            "BRA/CE342567\n",
            "ESP/XDA205856\n",
            "ESP/XDA205856\n",
            "ESP/XDA205856\n",
            "USA/31195855\n",
            "USA/31195855\n",
            "USA/31195855\n"
          ]
        }
      ]
    },
    {
      "cell_type": "markdown",
      "source": [
        "# 예제 10. 레코드로 사용된 튜플 2"
      ],
      "metadata": {
        "id": "TaMKz_SytBUS"
      }
    },
    {
      "cell_type": "code",
      "source": [
        "for country, _ in traveler_ids:\n",
        "  print(country)"
      ],
      "metadata": {
        "colab": {
          "base_uri": "https://localhost:8080/"
        },
        "id": "5nXkyFjmruJ1",
        "outputId": "26d049d6-75ab-4268-950a-b3e2fc9c2932"
      },
      "execution_count": 10,
      "outputs": [
        {
          "output_type": "stream",
          "name": "stdout",
          "text": [
            "USA\n",
            "BRA\n",
            "ESP\n"
          ]
        }
      ]
    },
    {
      "cell_type": "markdown",
      "source": [
        "# 예제 11. 튜플 병렬 할당"
      ],
      "metadata": {
        "id": "izgfPJrItIRY"
      }
    },
    {
      "cell_type": "code",
      "source": [
        "lax_coordinates = (33.9425, -118.408056)\n",
        "latitude, longitude = lax_coordinates\n",
        "print(latitude)\n",
        "print(longitude)"
      ],
      "metadata": {
        "colab": {
          "base_uri": "https://localhost:8080/"
        },
        "id": "TOyDrJv_1Fz4",
        "outputId": "569bde65-739a-4e26-b4b1-c574dac8f924"
      },
      "execution_count": 11,
      "outputs": [
        {
          "output_type": "stream",
          "name": "stdout",
          "text": [
            "33.9425\n",
            "-118.408056\n"
          ]
        }
      ]
    },
    {
      "cell_type": "markdown",
      "source": [
        "# 예제 12. 튜플 병렬 할당 (swap)"
      ],
      "metadata": {
        "id": "enDM0X3AtK_k"
      }
    },
    {
      "cell_type": "code",
      "source": [
        "a=10; b=20\n",
        "b, a = a, b\n",
        "print(a, b)"
      ],
      "metadata": {
        "colab": {
          "base_uri": "https://localhost:8080/"
        },
        "id": "fmRXDRhYrwuw",
        "outputId": "79874d4e-e84b-431c-8fc2-25161b6f0224"
      },
      "execution_count": 12,
      "outputs": [
        {
          "output_type": "stream",
          "name": "stdout",
          "text": [
            "20 10\n"
          ]
        }
      ]
    },
    {
      "cell_type": "markdown",
      "source": [
        "# 예제 13. 튜플 병렬 할당 (함수 인수 전달)"
      ],
      "metadata": {
        "id": "jADG2MFutWJu"
      }
    },
    {
      "cell_type": "code",
      "source": [
        "print(divmod(20, 8))\n",
        "\n",
        "t = (20, 8)\n",
        "print(divmod(*t))\n",
        "\n",
        "quotient, remainder = divmod(*t)\n",
        "print(quotient, remainder)"
      ],
      "metadata": {
        "colab": {
          "base_uri": "https://localhost:8080/"
        },
        "id": "8VYlBmNq3GLe",
        "outputId": "280137b7-0314-45e6-fcd7-b575868a4a3c"
      },
      "execution_count": 13,
      "outputs": [
        {
          "output_type": "stream",
          "name": "stdout",
          "text": [
            "(2, 4)\n",
            "(2, 4)\n",
            "2 4\n"
          ]
        }
      ]
    },
    {
      "cell_type": "markdown",
      "source": [
        "# 예제 14. 파일시스템 경로에서 경로명과 파일명 추출"
      ],
      "metadata": {
        "id": "P5DwlvdCtZhh"
      }
    },
    {
      "cell_type": "code",
      "source": [
        "import os\n",
        "_, filename = os.path.split('/home/luciano/.ssh/idrsa.pub')\n",
        "print(filename)"
      ],
      "metadata": {
        "colab": {
          "base_uri": "https://localhost:8080/"
        },
        "id": "oD7wEv7o2Hmn",
        "outputId": "1762772c-9970-40f2-a184-c30bade82181"
      },
      "execution_count": 14,
      "outputs": [
        {
          "output_type": "stream",
          "name": "stdout",
          "text": [
            "idrsa.pub\n"
          ]
        }
      ]
    },
    {
      "cell_type": "markdown",
      "source": [
        "# 예제 15. * 사용으로 병렬 할당 언패킹 1"
      ],
      "metadata": {
        "id": "DP6MDXo-u712"
      }
    },
    {
      "cell_type": "code",
      "source": [
        "a, b, *rest = range(5)\n",
        "print(a, b, rest)\n",
        "\n",
        "a, b, *rest = range(3)\n",
        "print(a, b, rest)\n",
        "\n",
        "a, b, *rest = range(2)\n",
        "print(a, b, rest)\n"
      ],
      "metadata": {
        "colab": {
          "base_uri": "https://localhost:8080/"
        },
        "id": "ZIamRaaG3Q4x",
        "outputId": "eafd4d1f-f865-423f-b849-f6ea39e481fc"
      },
      "execution_count": 15,
      "outputs": [
        {
          "output_type": "stream",
          "name": "stdout",
          "text": [
            "0 1 [2, 3, 4]\n",
            "0 1 [2]\n",
            "0 1 []\n"
          ]
        }
      ]
    },
    {
      "cell_type": "markdown",
      "source": [
        "# 예제 16. * 사용으로 병렬 할당 언패킹 2"
      ],
      "metadata": {
        "id": "JPo2xpZqvAYM"
      }
    },
    {
      "cell_type": "code",
      "source": [
        "#예제16 *사용으로 병렬 할당 언패킹2\n",
        "a, *body, c, d = range(5)\n",
        "print(a, body, c, d)\n",
        "\n",
        "*head, b, c, d = range(5)\n",
        "print(head, b, c, d)"
      ],
      "metadata": {
        "colab": {
          "base_uri": "https://localhost:8080/"
        },
        "id": "weih8vWF3cqY",
        "outputId": "e9647384-273c-47e1-a3a1-b32a5f357860"
      },
      "execution_count": 16,
      "outputs": [
        {
          "output_type": "stream",
          "name": "stdout",
          "text": [
            "0 [1, 2] 3 4\n",
            "[0, 1] 2 3 4\n"
          ]
        }
      ]
    },
    {
      "cell_type": "markdown",
      "source": [
        "# 예제 17. longitude에 접근하기 위해 내포된 튜플 언패킹"
      ],
      "metadata": {
        "id": "_K1GdhphvCdx"
      }
    },
    {
      "cell_type": "code",
      "source": [
        "metro_areas = [\n",
        "    ('Tokyo', 'JP', 36.933, (35, 139)),\n",
        "    ('Delhi NCR', 'IN', 21, (28, 77)),\n",
        "    ('Mexico City', 'MX', 20, (19, -99)),\n",
        "    ('New York-Newark', 'US', 20, (40, -74)),\n",
        "    ('Sao Paulo', 'BR', 19, (-23, -46))\n",
        "]\n",
        "\n",
        "print('{:15} | {:^9} | {:^9}'.format('', 'lat.', 'long.'))\n",
        "fmt = '{:15} | {:9.4f} | {:9.4f}'\n",
        "\n",
        "for name, cc, pop, (lat, longi) in metro_areas:\n",
        "  if longi <= 0:\n",
        "    print(fmt.format(name, lat, longi))"
      ],
      "metadata": {
        "colab": {
          "base_uri": "https://localhost:8080/"
        },
        "id": "ee3WkuVR3_96",
        "outputId": "1cc8183e-1d0d-44f1-8b74-69af3415f68f"
      },
      "execution_count": 17,
      "outputs": [
        {
          "output_type": "stream",
          "name": "stdout",
          "text": [
            "                |   lat.    |   long.  \n",
            "Mexico City     |   19.0000 |  -99.0000\n",
            "New York-Newark |   40.0000 |  -74.0000\n",
            "Sao Paulo       |  -23.0000 |  -46.0000\n"
          ]
        }
      ]
    },
    {
      "cell_type": "markdown",
      "source": [
        "# 예제 18. 명명된 튜플형을 정의하고 사용하기"
      ],
      "metadata": {
        "id": "Q8USyBjuvH-k"
      }
    },
    {
      "cell_type": "code",
      "source": [
        "from collections import namedtuple\n",
        "City = namedtuple('City', 'name country population coordinates')\n",
        "tokyo = City('Tokyo', 'JP', 36.933, (35.689, 139,691))\n",
        "print(tokyo)\n",
        "print(tokyo.population)\n",
        "print(tokyo.coordinates)\n",
        "print(tokyo[1])"
      ],
      "metadata": {
        "colab": {
          "base_uri": "https://localhost:8080/"
        },
        "id": "aOqlrZqm4r0x",
        "outputId": "6dcaf4e0-4ae3-4b41-8108-0aa85be41c0d"
      },
      "execution_count": 18,
      "outputs": [
        {
          "output_type": "stream",
          "name": "stdout",
          "text": [
            "City(name='Tokyo', country='JP', population=36.933, coordinates=(35.689, 139, 691))\n",
            "36.933\n",
            "(35.689, 139, 691)\n",
            "JP\n"
          ]
        }
      ]
    },
    {
      "cell_type": "markdown",
      "source": [
        "# 예제 19. 명명된 튜플의 속성과 메서드 ([예제 18]에 이어서)"
      ],
      "metadata": {
        "id": "ZXMgtXzxvLiy"
      }
    },
    {
      "cell_type": "code",
      "source": [
        "print(City._fields)\n",
        "\n",
        "LatLong = namedtuple('LatLong', 'lat long')\n",
        "delhi_data = ('Delhi NCR', 'IN', 21.935, LatLong(28.613, 77.208\n",
        "                                                 ))\n",
        "delhi = City._make(delhi_data)\n",
        "print(delhi._asdict())\n",
        "\n",
        "for key, value in delhi._asdict().items():\n",
        "  print(key + ':', value)"
      ],
      "metadata": {
        "colab": {
          "base_uri": "https://localhost:8080/"
        },
        "id": "MDlMMHUjr03-",
        "outputId": "b87ec418-a335-4385-d086-107831023c11"
      },
      "execution_count": 19,
      "outputs": [
        {
          "output_type": "stream",
          "name": "stdout",
          "text": [
            "('name', 'country', 'population', 'coordinates')\n",
            "{'name': 'Delhi NCR', 'country': 'IN', 'population': 21.935, 'coordinates': LatLong(lat=28.613, long=77.208)}\n",
            "name: Delhi NCR\n",
            "country: IN\n",
            "population: 21.935\n",
            "coordinates: LatLong(lat=28.613, long=77.208)\n"
          ]
        }
      ]
    },
    {
      "cell_type": "markdown",
      "source": [
        "# 예제 20. 슬라이싱 예제"
      ],
      "metadata": {
        "id": "aLU5xe_evRQH"
      }
    },
    {
      "cell_type": "code",
      "source": [
        "l = [10, 20, 30, 40, 50, 60]\n",
        "print(l[:2])\n",
        "print(l[2:])\n",
        "print(l[:3])\n",
        "print(l[3:])"
      ],
      "metadata": {
        "colab": {
          "base_uri": "https://localhost:8080/"
        },
        "id": "wh1C7BFR5IlG",
        "outputId": "ed0a28ab-35a3-4a96-c220-04bd24e02df6"
      },
      "execution_count": 20,
      "outputs": [
        {
          "output_type": "stream",
          "name": "stdout",
          "text": [
            "[10, 20]\n",
            "[30, 40, 50, 60]\n",
            "[10, 20, 30]\n",
            "[40, 50, 60]\n"
          ]
        }
      ]
    },
    {
      "cell_type": "markdown",
      "source": [
        "# 예제 21. 단순 텍스트 파일 청구서의 행 항목들"
      ],
      "metadata": {
        "id": "rkKzd03bvUmM"
      }
    },
    {
      "cell_type": "code",
      "source": [
        "invoice = \"\"\"\n",
        "0.....6..................25.........33......40.......\n",
        "1909  Pimoroni              $17.50     3     $52.50\n",
        "1489  6mm Tactile           $4.95      2     $9.90\n",
        "\"\"\"\n",
        "\n",
        "SKU = slice(0, 6)\n",
        "DESCRIPTION = slice(6, 40)\n",
        "UNIT_PRICE = slice(40, 52)\n",
        "QUANTITY = slice(52, 55)\n",
        "ITEM_TOTAL = slice(55, None)\n",
        "\n",
        "line_items = invoice.split('\\n')[2:]\n",
        "\n",
        "for item in line_items:\n",
        "  print(item[UNIT_PRICE], item[DESCRIPTION])"
      ],
      "metadata": {
        "colab": {
          "base_uri": "https://localhost:8080/"
        },
        "id": "crHDznOU6qtk",
        "outputId": "079ce79c-1968-4130-bff6-2acc512e4120"
      },
      "execution_count": 21,
      "outputs": [
        {
          "output_type": "stream",
          "name": "stdout",
          "text": [
            "     $52.50 Pimoroni              $17.50     3\n",
            "     $9.90 6mm Tactile           $4.95      2\n",
            " \n"
          ]
        }
      ]
    },
    {
      "cell_type": "markdown",
      "source": [
        "# 예제 22. 가변 시퀀스 변형"
      ],
      "metadata": {
        "id": "aB8WPfQgvcCH"
      }
    },
    {
      "cell_type": "code",
      "source": [
        "l = list(range(10))\n",
        "print(l)\n",
        "\n",
        "l[2:5] = [20, 30]\n",
        "print(l)\n",
        "\n",
        "del l[5:7]\n",
        "print(l)\n",
        "\n",
        "l[3::2] = [11, 22]\n",
        "print(l)"
      ],
      "metadata": {
        "colab": {
          "base_uri": "https://localhost:8080/"
        },
        "id": "rfMNzGDZ7EZD",
        "outputId": "550145f8-3166-4639-9f36-09784387971c"
      },
      "execution_count": 22,
      "outputs": [
        {
          "output_type": "stream",
          "name": "stdout",
          "text": [
            "[0, 1, 2, 3, 4, 5, 6, 7, 8, 9]\n",
            "[0, 1, 20, 30, 5, 6, 7, 8, 9]\n",
            "[0, 1, 20, 30, 5, 8, 9]\n",
            "[0, 1, 20, 11, 5, 22, 9]\n"
          ]
        }
      ]
    },
    {
      "cell_type": "markdown",
      "source": [
        "# 예제 23. 가변 시퀀스 변형 오류 예시"
      ],
      "metadata": {
        "id": "rouTQObhvhGL"
      }
    },
    {
      "cell_type": "code",
      "source": [
        "l[2:5] = 100"
      ],
      "metadata": {
        "colab": {
          "base_uri": "https://localhost:8080/",
          "height": 144
        },
        "id": "o68-c36VvfeF",
        "outputId": "68735886-1486-4b16-fcf3-55b1067d191c"
      },
      "execution_count": 23,
      "outputs": [
        {
          "output_type": "error",
          "ename": "TypeError",
          "evalue": "can only assign an iterable",
          "traceback": [
            "\u001b[0;31m---------------------------------------------------------------------------\u001b[0m",
            "\u001b[0;31mTypeError\u001b[0m                                 Traceback (most recent call last)",
            "\u001b[0;32m<ipython-input-23-da8b10461280>\u001b[0m in \u001b[0;36m<cell line: 1>\u001b[0;34m()\u001b[0m\n\u001b[0;32m----> 1\u001b[0;31m \u001b[0ml\u001b[0m\u001b[0;34m[\u001b[0m\u001b[0;36m2\u001b[0m\u001b[0;34m:\u001b[0m\u001b[0;36m5\u001b[0m\u001b[0;34m]\u001b[0m \u001b[0;34m=\u001b[0m \u001b[0;36m100\u001b[0m\u001b[0;34m\u001b[0m\u001b[0;34m\u001b[0m\u001b[0m\n\u001b[0m",
            "\u001b[0;31mTypeError\u001b[0m: can only assign an iterable"
          ]
        }
      ]
    },
    {
      "cell_type": "markdown",
      "source": [
        "# 예제 24. 올바른 할당문"
      ],
      "metadata": {
        "id": "-s2sj0_Hvke5"
      }
    },
    {
      "cell_type": "code",
      "source": [
        "l[2:5] = [100]\n",
        "l"
      ],
      "metadata": {
        "id": "Ri65uZcC8Mkt"
      },
      "execution_count": null,
      "outputs": []
    },
    {
      "cell_type": "markdown",
      "source": [
        "# 예제 25. 시퀀스에 덧셈 곱셈 수행"
      ],
      "metadata": {
        "id": "TGkCcOAlvmj7"
      }
    },
    {
      "cell_type": "code",
      "source": [
        "l = [1,2,3]\n",
        "print(l * 5)\n",
        "print(5 * 'abcd')"
      ],
      "metadata": {
        "colab": {
          "base_uri": "https://localhost:8080/"
        },
        "id": "lUGWC6aG8a3c",
        "outputId": "2c365198-5eb5-4a4b-c66c-4bc4dd0ede44"
      },
      "execution_count": 24,
      "outputs": [
        {
          "output_type": "stream",
          "name": "stdout",
          "text": [
            "[1, 2, 3, 1, 2, 3, 1, 2, 3, 1, 2, 3, 1, 2, 3]\n",
            "abcdabcdabcdabcdabcd\n"
          ]
        }
      ]
    },
    {
      "cell_type": "markdown",
      "source": [
        "# 예제 26. 길이가 3인 리스트 3개로 표현한 틱택토 보드"
      ],
      "metadata": {
        "id": "RjHm-i6vvqDW"
      }
    },
    {
      "cell_type": "code",
      "source": [
        "borad = [['_'] * 3 for i in range(3)]\n",
        "print(borad)\n",
        "\n",
        "borad[1][2] = 'X'\n",
        "print(borad)"
      ],
      "metadata": {
        "colab": {
          "base_uri": "https://localhost:8080/"
        },
        "id": "sOrLpI2U8gYD",
        "outputId": "0d72ddc5-17da-4d8b-a3dc-055dd7315f2a"
      },
      "execution_count": 25,
      "outputs": [
        {
          "output_type": "stream",
          "name": "stdout",
          "text": [
            "[['_', '_', '_'], ['_', '_', '_'], ['_', '_', '_']]\n",
            "[['_', '_', '_'], ['_', '_', 'X'], ['_', '_', '_']]\n"
          ]
        }
      ]
    },
    {
      "cell_type": "markdown",
      "source": [
        "# 예제 27. 동일한 리스트에 대한 세 개의 참조를 가진 리스트"
      ],
      "metadata": {
        "id": "gIr-5aCUwBTO"
      }
    },
    {
      "cell_type": "code",
      "source": [
        "weird_board = [['_'] * 3] * 3\n",
        "print(weird_board)\n",
        "\n",
        "weird_board[1][2] = 'O'\n",
        "print(weird_board)"
      ],
      "metadata": {
        "colab": {
          "base_uri": "https://localhost:8080/"
        },
        "id": "MT45eMKv8pY_",
        "outputId": "6befef97-e442-4905-a021-dc322eaf7357"
      },
      "execution_count": 26,
      "outputs": [
        {
          "output_type": "stream",
          "name": "stdout",
          "text": [
            "[['_', '_', '_'], ['_', '_', '_'], ['_', '_', '_']]\n",
            "[['_', '_', 'O'], ['_', '_', 'O'], ['_', '_', 'O']]\n"
          ]
        }
      ]
    },
    {
      "cell_type": "markdown",
      "source": [
        "# 예제 28. 동일한 리스트에 대한 세 개의 참조를 가진 리스트2"
      ],
      "metadata": {
        "id": "6J6rE9_8wGqN"
      }
    },
    {
      "cell_type": "code",
      "source": [
        "row = ['_'] * 3\n",
        "board = []\n",
        "for i in range(3):\n",
        "  board.append(row)\n",
        "\n",
        "board[1][2] = 'X'\n",
        "print(board)"
      ],
      "metadata": {
        "colab": {
          "base_uri": "https://localhost:8080/"
        },
        "id": "YKRcspq28rIW",
        "outputId": "bb9925d8-2c5f-45ad-fe10-a14adf500a9e"
      },
      "execution_count": 27,
      "outputs": [
        {
          "output_type": "stream",
          "name": "stdout",
          "text": [
            "[['_', '_', 'X'], ['_', '_', 'X'], ['_', '_', 'X']]\n"
          ]
        }
      ]
    },
    {
      "cell_type": "markdown",
      "source": [
        "# 예제 29. [예제26]의 지능형 리스트의 다른 표현"
      ],
      "metadata": {
        "id": "51XXItaPwIw0"
      }
    },
    {
      "cell_type": "code",
      "source": [
        "board = []\n",
        "for i in range(3):\n",
        "  row = ['_'] * 3\n",
        "  board.append(row)\n",
        "\n",
        "print(board)\n",
        "board[1][2] = 'X'\n",
        "print(board)"
      ],
      "metadata": {
        "colab": {
          "base_uri": "https://localhost:8080/"
        },
        "id": "__ZPnNL-88ut",
        "outputId": "e5bc22c5-71b6-434c-83dc-8337117a85e3"
      },
      "execution_count": 28,
      "outputs": [
        {
          "output_type": "stream",
          "name": "stdout",
          "text": [
            "[['_', '_', '_'], ['_', '_', '_'], ['_', '_', '_']]\n",
            "[['_', '_', '_'], ['_', '_', 'X'], ['_', '_', '_']]\n"
          ]
        }
      ]
    },
    {
      "cell_type": "markdown",
      "source": [
        "# 예제 30. 가변 시퀀스의 복합 할당 연산자 곱 결과"
      ],
      "metadata": {
        "id": "wsO2VnxZwKuH"
      }
    },
    {
      "cell_type": "code",
      "source": [
        "l = [1,2,3]\n",
        "print(id(l))\n",
        "\n",
        "l *= 2\n",
        "print(l)\n",
        "\n",
        "print(id(l))"
      ],
      "metadata": {
        "colab": {
          "base_uri": "https://localhost:8080/"
        },
        "id": "A5-KewWOsATH",
        "outputId": "dd8ebae6-3c00-458f-e847-bcf454d332a4"
      },
      "execution_count": 29,
      "outputs": [
        {
          "output_type": "stream",
          "name": "stdout",
          "text": [
            "135637562344768\n",
            "[1, 2, 3, 1, 2, 3]\n",
            "135637562344768\n"
          ]
        }
      ]
    },
    {
      "cell_type": "markdown",
      "source": [
        "# 예제 31. 불변 시퀀스의 복합 할당 연산자 곱 결과"
      ],
      "metadata": {
        "id": "3wlc2A-YwbGt"
      }
    },
    {
      "cell_type": "code",
      "source": [
        "t = (1,2,3)\n",
        "print(id(t))\n",
        "\n",
        "t *= 2\n",
        "print(id(t))"
      ],
      "metadata": {
        "colab": {
          "base_uri": "https://localhost:8080/"
        },
        "id": "3ejqy3Aer-Jg",
        "outputId": "5dfe215c-78ab-49cc-86bd-565ebd5c025d"
      },
      "execution_count": 30,
      "outputs": [
        {
          "output_type": "stream",
          "name": "stdout",
          "text": [
            "135637148700288\n",
            "135637562068416\n"
          ]
        }
      ]
    },
    {
      "cell_type": "markdown",
      "source": [
        "# 예제 32. 퀴즈"
      ],
      "metadata": {
        "id": "4ruNRIiQweAt"
      }
    },
    {
      "cell_type": "code",
      "source": [
        "#예제32 퀴즈\n",
        "\n",
        "t = (1,2, [30,40])\n",
        "print(t)\n",
        "\n",
        "\n",
        "t[2] += [50, 60]"
      ],
      "metadata": {
        "colab": {
          "base_uri": "https://localhost:8080/",
          "height": 198
        },
        "id": "pcpP4iVt-YSl",
        "outputId": "a3ea161d-22d2-4169-fc0e-d77d27f30edb"
      },
      "execution_count": 31,
      "outputs": [
        {
          "output_type": "stream",
          "name": "stdout",
          "text": [
            "(1, 2, [30, 40])\n"
          ]
        },
        {
          "output_type": "error",
          "ename": "TypeError",
          "evalue": "'tuple' object does not support item assignment",
          "traceback": [
            "\u001b[0;31m---------------------------------------------------------------------------\u001b[0m",
            "\u001b[0;31mTypeError\u001b[0m                                 Traceback (most recent call last)",
            "\u001b[0;32m<ipython-input-31-69193c4e8714>\u001b[0m in \u001b[0;36m<cell line: 7>\u001b[0;34m()\u001b[0m\n\u001b[1;32m      5\u001b[0m \u001b[0;34m\u001b[0m\u001b[0m\n\u001b[1;32m      6\u001b[0m \u001b[0;34m\u001b[0m\u001b[0m\n\u001b[0;32m----> 7\u001b[0;31m \u001b[0mt\u001b[0m\u001b[0;34m[\u001b[0m\u001b[0;36m2\u001b[0m\u001b[0;34m]\u001b[0m \u001b[0;34m+=\u001b[0m \u001b[0;34m[\u001b[0m\u001b[0;36m50\u001b[0m\u001b[0;34m,\u001b[0m \u001b[0;36m60\u001b[0m\u001b[0;34m]\u001b[0m\u001b[0;34m\u001b[0m\u001b[0;34m\u001b[0m\u001b[0m\n\u001b[0m",
            "\u001b[0;31mTypeError\u001b[0m: 'tuple' object does not support item assignment"
          ]
        }
      ]
    },
    {
      "cell_type": "markdown",
      "source": [
        "# 예제 33. 퀴즈 코드 수행 결과"
      ],
      "metadata": {
        "id": "dqPu6b1jwzGa"
      }
    },
    {
      "cell_type": "code",
      "source": [
        "print(t)"
      ],
      "metadata": {
        "colab": {
          "base_uri": "https://localhost:8080/"
        },
        "id": "EpbD8Aok-jsG",
        "outputId": "58ef1287-49b5-41c3-ecd9-ec4f792336fb"
      },
      "execution_count": 32,
      "outputs": [
        {
          "output_type": "stream",
          "name": "stdout",
          "text": [
            "(1, 2, [30, 40, 50, 60])\n"
          ]
        }
      ]
    },
    {
      "cell_type": "markdown",
      "source": [
        "# 예제 34. 리스트 정렬: sorted()"
      ],
      "metadata": {
        "id": "32i5F0zzw-If"
      }
    },
    {
      "cell_type": "code",
      "source": [
        "fruits = ['grape', 'raspberry', 'apple', 'banana']\n",
        "print(sorted(fruits))\n",
        "\n",
        "print(sorted(fruits, reverse=True))\n",
        "\n",
        "print(sorted(fruits, key=len))"
      ],
      "metadata": {
        "colab": {
          "base_uri": "https://localhost:8080/"
        },
        "id": "T-GmFx56sL_Q",
        "outputId": "53c69601-a8a4-4dd1-c83b-7c57168d9f27"
      },
      "execution_count": 33,
      "outputs": [
        {
          "output_type": "stream",
          "name": "stdout",
          "text": [
            "['apple', 'banana', 'grape', 'raspberry']\n",
            "['raspberry', 'grape', 'banana', 'apple']\n",
            "['grape', 'apple', 'banana', 'raspberry']\n"
          ]
        }
      ]
    },
    {
      "cell_type": "markdown",
      "source": [
        "# 예제 35. 리스트 정렬: list.sort()"
      ],
      "metadata": {
        "id": "GiAWmoXyxChL"
      }
    },
    {
      "cell_type": "code",
      "source": [
        "print(sorted(fruits, key=len, reverse=True))\n",
        "print(fruits)\n",
        "\n",
        "fruits.sort()\n",
        "print(fruits)"
      ],
      "metadata": {
        "colab": {
          "base_uri": "https://localhost:8080/"
        },
        "id": "palgoNKZsLFy",
        "outputId": "0f400831-88f9-40ba-a6cf-aebe216774a4"
      },
      "execution_count": 34,
      "outputs": [
        {
          "output_type": "stream",
          "name": "stdout",
          "text": [
            "['raspberry', 'banana', 'grape', 'apple']\n",
            "['grape', 'raspberry', 'apple', 'banana']\n",
            "['apple', 'banana', 'grape', 'raspberry']\n"
          ]
        }
      ]
    },
    {
      "cell_type": "markdown",
      "source": [
        "# 예제 36. 커다란 실수 배열의 생성"
      ],
      "metadata": {
        "id": "O-Gp9EeHxE2o"
      }
    },
    {
      "cell_type": "code",
      "source": [
        "from array import array\n",
        "from random import random\n",
        "\n",
        "floats = array('d', (random() for i in range(10**7)))\n",
        "print(floats[-1])"
      ],
      "metadata": {
        "colab": {
          "base_uri": "https://localhost:8080/"
        },
        "id": "EdyHP7CS_SwD",
        "outputId": "c7b1aca3-268c-4825-a421-b813b3e6be26"
      },
      "execution_count": 35,
      "outputs": [
        {
          "output_type": "stream",
          "name": "stdout",
          "text": [
            "0.8348390728130836\n"
          ]
        }
      ]
    },
    {
      "cell_type": "markdown",
      "source": [
        "# 예제 37. 커다란 실수 배열의 저장/로딩"
      ],
      "metadata": {
        "id": "75qKEXlxxHqF"
      }
    },
    {
      "cell_type": "code",
      "source": [
        "with open('floats.bin', 'wb') as f:\n",
        "  floats.tofile(f)\n",
        "\n",
        "floats2 = array('d')\n",
        "\n",
        "with open('floats.bin', 'rb') as f:\n",
        "  floats2.fromfile(f, 10**7)\n",
        "\n",
        "print(floats2[-1])\n",
        "\n",
        "print(floats2 == floats)"
      ],
      "metadata": {
        "colab": {
          "base_uri": "https://localhost:8080/"
        },
        "id": "gPgXZD2GsO1o",
        "outputId": "aa5fd70f-139f-41aa-9265-92a2c911e54d"
      },
      "execution_count": 36,
      "outputs": [
        {
          "output_type": "stream",
          "name": "stdout",
          "text": [
            "0.8348390728130836\n",
            "True\n"
          ]
        }
      ]
    },
    {
      "cell_type": "markdown",
      "source": [
        "# 예제 38. 배열 항목 값의 바이트 중 하나 변경"
      ],
      "metadata": {
        "id": "xgQR8NLMxMSw"
      }
    },
    {
      "cell_type": "code",
      "source": [
        "import array\n",
        "numbers = array.array('h', [-2, -1, 0, 1, 2])\n",
        "memv = memoryview(numbers)\n",
        "print(len(memv))\n",
        "\n",
        "print(memv[0])\n",
        "\n",
        "memv_oct = memv.cast('B')\n",
        "print(memv_oct.tolist())\n",
        "\n",
        "memv_oct[5] = 4\n",
        "print(numbers)"
      ],
      "metadata": {
        "colab": {
          "base_uri": "https://localhost:8080/"
        },
        "id": "PE25Z9s4_a2k",
        "outputId": "32d57d30-5fff-4ed8-b057-d4b5f8e9d641"
      },
      "execution_count": 37,
      "outputs": [
        {
          "output_type": "stream",
          "name": "stdout",
          "text": [
            "5\n",
            "-2\n",
            "[254, 255, 255, 255, 0, 0, 1, 0, 2, 0]\n",
            "array('h', [-2, -1, 1024, 1, 2])\n"
          ]
        }
      ]
    },
    {
      "cell_type": "markdown",
      "source": [
        "# 예제 39. numpy.ndarray에서 행과 열을 이용한 기본 연산"
      ],
      "metadata": {
        "id": "aDKS7CPpxPUb"
      }
    },
    {
      "cell_type": "code",
      "source": [
        "import numpy\n",
        "a = numpy.arange(12)\n",
        "print(a)\n",
        "\n",
        "print(type(a))"
      ],
      "metadata": {
        "colab": {
          "base_uri": "https://localhost:8080/"
        },
        "id": "ZzYG3UzHARNH",
        "outputId": "ae38886a-6edb-45c5-e4ff-1d7b77a1ace7"
      },
      "execution_count": 38,
      "outputs": [
        {
          "output_type": "stream",
          "name": "stdout",
          "text": [
            "[ 0  1  2  3  4  5  6  7  8  9 10 11]\n",
            "<class 'numpy.ndarray'>\n"
          ]
        }
      ]
    },
    {
      "cell_type": "markdown",
      "source": [
        "# 예제 40. numpy.ndarray에서 행과 열을 이용한 기본 연산 2"
      ],
      "metadata": {
        "id": "a1LiRdqBxSlR"
      }
    },
    {
      "cell_type": "code",
      "source": [
        "print(a.shape)\n",
        "\n",
        "a.shape = 3, 4\n",
        "print(a)"
      ],
      "metadata": {
        "colab": {
          "base_uri": "https://localhost:8080/"
        },
        "id": "S7CKRrEssQtn",
        "outputId": "3b40c361-7612-4bc1-8a15-7313953a771c"
      },
      "execution_count": 39,
      "outputs": [
        {
          "output_type": "stream",
          "name": "stdout",
          "text": [
            "(12,)\n",
            "[[ 0  1  2  3]\n",
            " [ 4  5  6  7]\n",
            " [ 8  9 10 11]]\n"
          ]
        }
      ]
    },
    {
      "cell_type": "markdown",
      "source": [
        "# 예제 41. numpy.ndarray에서 행과 열을 이용한 기본 연산 3"
      ],
      "metadata": {
        "id": "aqzIflzgxVXz"
      }
    },
    {
      "cell_type": "code",
      "source": [
        "print(a[2])\n",
        "\n",
        "print(a[2,1])\n",
        "\n",
        "print(a[:, 1])"
      ],
      "metadata": {
        "colab": {
          "base_uri": "https://localhost:8080/"
        },
        "id": "OMOY_XyssSHM",
        "outputId": "c23a1eb5-1484-4137-dd5d-d130af005d92"
      },
      "execution_count": 40,
      "outputs": [
        {
          "output_type": "stream",
          "name": "stdout",
          "text": [
            "[ 8  9 10 11]\n",
            "9\n",
            "[1 5 9]\n"
          ]
        }
      ]
    },
    {
      "cell_type": "markdown",
      "source": [
        "# 예제 42. numpy.ndarray에서 행과 열을 이용한 기본 연산 4"
      ],
      "metadata": {
        "id": "zRwr3MvCxdje"
      }
    },
    {
      "cell_type": "code",
      "source": [
        "print(a.transpose())"
      ],
      "metadata": {
        "colab": {
          "base_uri": "https://localhost:8080/"
        },
        "id": "rTPdCZfvsTMC",
        "outputId": "dbf3178d-803c-4de2-eb34-7a61c6d5f56b"
      },
      "execution_count": 41,
      "outputs": [
        {
          "output_type": "stream",
          "name": "stdout",
          "text": [
            "[[ 0  4  8]\n",
            " [ 1  5  9]\n",
            " [ 2  6 10]\n",
            " [ 3  7 11]]\n"
          ]
        }
      ]
    },
    {
      "cell_type": "markdown",
      "source": [
        "# 예제 43. 덱 이용하기 1"
      ],
      "metadata": {
        "id": "WkgbFFWFxgbU"
      }
    },
    {
      "cell_type": "code",
      "source": [
        "from collections import deque\n",
        "dq = deque(range(10), maxlen=10)\n",
        "print(dq)\n",
        "\n",
        "dq.rotate(3)\n",
        "print(dq)\n",
        "\n",
        "dq.rotate(-4)\n",
        "print(dq)"
      ],
      "metadata": {
        "colab": {
          "base_uri": "https://localhost:8080/"
        },
        "id": "uJ0rHUf-A4u_",
        "outputId": "eda5f0bd-2528-45a0-905b-3882db547f3d"
      },
      "execution_count": 42,
      "outputs": [
        {
          "output_type": "stream",
          "name": "stdout",
          "text": [
            "deque([0, 1, 2, 3, 4, 5, 6, 7, 8, 9], maxlen=10)\n",
            "deque([7, 8, 9, 0, 1, 2, 3, 4, 5, 6], maxlen=10)\n",
            "deque([1, 2, 3, 4, 5, 6, 7, 8, 9, 0], maxlen=10)\n"
          ]
        }
      ]
    },
    {
      "cell_type": "markdown",
      "source": [
        "# 예제 44. 덱 이용하기 2"
      ],
      "metadata": {
        "id": "dxK9C1bIxjV9"
      }
    },
    {
      "cell_type": "code",
      "source": [
        "dq.appendleft(-1)\n",
        "print(dq)\n",
        "\n",
        "dq.extend([11, 22, 33])\n",
        "print(dq)\n",
        "\n",
        "dq.extendleft([10, 20, 30, 40])\n",
        "print(dq)"
      ],
      "metadata": {
        "colab": {
          "base_uri": "https://localhost:8080/"
        },
        "id": "I3_IN4NcsUqh",
        "outputId": "64b4bebf-4120-417e-f59b-c0b16a00f881"
      },
      "execution_count": 43,
      "outputs": [
        {
          "output_type": "stream",
          "name": "stdout",
          "text": [
            "deque([-1, 1, 2, 3, 4, 5, 6, 7, 8, 9], maxlen=10)\n",
            "deque([3, 4, 5, 6, 7, 8, 9, 11, 22, 33], maxlen=10)\n",
            "deque([40, 30, 20, 10, 3, 4, 5, 6, 7, 8], maxlen=10)\n"
          ]
        }
      ]
    }
  ]
}